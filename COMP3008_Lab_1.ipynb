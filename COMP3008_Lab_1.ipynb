{
  "nbformat": 4,
  "nbformat_minor": 0,
  "metadata": {
    "colab": {
      "provenance": [],
      "include_colab_link": true
    },
    "kernelspec": {
      "name": "python3",
      "display_name": "Python 3"
    },
    "language_info": {
      "name": "python"
    }
  },
  "cells": [
    {
      "cell_type": "markdown",
      "metadata": {
        "id": "view-in-github",
        "colab_type": "text"
      },
      "source": [
        "<a href=\"https://colab.research.google.com/github/markjfannon/SAI-24/blob/main/COMP3008_Lab_1.ipynb\" target=\"_parent\"><img src=\"https://colab.research.google.com/assets/colab-badge.svg\" alt=\"Open In Colab\"/></a>"
      ]
    },
    {
      "cell_type": "markdown",
      "source": [
        "# Lab 1: Introduction to Z3\n",
        "\n",
        "This is a worksheet for the first COMP3008 lab.  There will be seven lab worksheets in total, each designed to be completed within one or two weeks.  It is generally expected that a student should be able to complete the exercises within the two-hour lab, however the extra lab hour and/or time at home might sometimes be required.\n",
        "\n",
        "Working on these lab worksheets is an essential part of the module and a great opportunity to prepare for the coursework projects and exam.  We strongly advice showing your solutions to any of the teaching staff to discuss your approach and receive feedback.\n",
        "\n",
        "\n",
        "### Support\n",
        "\n",
        "You are encouraged to discuss the lab exercises with your classmates; this will not be academic misconduct.  (However, you cannot discuss individual projects with anyone except the teachers.)\n"
      ],
      "metadata": {
        "id": "AkSKPdukZxVh"
      }
    },
    {
      "cell_type": "markdown",
      "source": [
        "## How to use Google Colab\n",
        "\n",
        "Google Colab is a platform that allows one to run Python code in a web application.  This means that you do not need to install any software on your computer and that your code is stored in the cloud.\n",
        "\n",
        "The easiest way to work on this lab is to make a copy of this notebook to your own Google Drive (File -> Save a copy in Drive).  **Changes that you make to this notebook will be lost once you close it!**"
      ],
      "metadata": {
        "id": "zZp1xxooajhp"
      }
    },
    {
      "cell_type": "markdown",
      "source": [
        "## Z3 Theorem Prover\n",
        "\n",
        "The first software package that we will use in this module is called Z3 Theorem Prover.  It was developed by Microsoft and is considered to be one of the most advanced solvers in its class.  Wikipedia has an [article](https://en.wikipedia.org/wiki/Z3_Theorem_Prover) with a brief overview of Z3.\n",
        "\n",
        "The main purpose of Z3 is software verification, i.e. verification that a program will always work correctly.  (While it is impossible to answer this question in general -- you may have heard of the halting problem -- Z3 efficiently handles very complex cases.)  The language of Z3 is tailored for such tasks.  Nevertheless, Z3 is based on the first-order logic, and this is how we will use it.\n",
        "\n",
        "You will have to learn the relevant aspects of the language of Z3 on your own; this worksheet only explains a few basics, and the documentation on the web is scarce.  The expectation is that you will study the rest by trial and error -- which is common for such specialised software packages.\n"
      ],
      "metadata": {
        "id": "UHdo297NJFdp"
      }
    },
    {
      "cell_type": "markdown",
      "source": [
        "## Installation of the Python package\n",
        "\n",
        "Run the below command once, to install the Microsoft Z3 package.  This may take 20-30 seconds."
      ],
      "metadata": {
        "id": "hMWpteC3HBiZ"
      }
    },
    {
      "cell_type": "code",
      "execution_count": 1,
      "metadata": {
        "id": "C3ADBA-m5-A3",
        "colab": {
          "base_uri": "https://localhost:8080/"
        },
        "outputId": "3ab66988-58f7-4b14-fae5-fa04c8707839"
      },
      "outputs": [
        {
          "output_type": "stream",
          "name": "stdout",
          "text": [
            "Collecting z3-solver\n",
            "  Downloading z3_solver-4.13.2.0-py3-none-manylinux_2_17_x86_64.manylinux2014_x86_64.whl.metadata (602 bytes)\n",
            "Downloading z3_solver-4.13.2.0-py3-none-manylinux_2_17_x86_64.manylinux2014_x86_64.whl (28.1 MB)\n",
            "\u001b[2K   \u001b[90m━━━━━━━━━━━━━━━━━━━━━━━━━━━━━━━━━━━━━━━━\u001b[0m \u001b[32m28.1/28.1 MB\u001b[0m \u001b[31m18.0 MB/s\u001b[0m eta \u001b[36m0:00:00\u001b[0m\n",
            "\u001b[?25hInstalling collected packages: z3-solver\n",
            "Successfully installed z3-solver-4.13.2.0\n"
          ]
        }
      ],
      "source": [
        "!pip install z3-solver"
      ]
    },
    {
      "cell_type": "markdown",
      "source": [
        "Z3 Solver accepts knowledge bases in the SMT2 format.  In this lab, you will use the SMT2 format to encode some simple knowledge.  You do not need to understand the Python code below; its only function is to pass the SMT2 program to the Z3 solver and then run Z3 to check if the program is satisfiable and print the model."
      ],
      "metadata": {
        "id": "OdmNZMJkHezZ"
      }
    },
    {
      "cell_type": "code",
      "source": [
        "smt2program = \"\"\"\n",
        "(declare-const A Bool)\n",
        "(declare-const B Bool)\n",
        "(assert (and (xor A B) A))\n",
        "\"\"\"\n",
        "\n",
        "import z3\n",
        "\n",
        "s = z3.Solver()\n",
        "s.add(z3.parse_smt2_string(smt2program))\n",
        "status = s.check()\n",
        "print(status)\n",
        "if status == z3.sat:\n",
        "    print(s.model())"
      ],
      "metadata": {
        "colab": {
          "base_uri": "https://localhost:8080/"
        },
        "id": "Ap7Vs6r-62_s",
        "outputId": "ffebb474-1f49-4d03-a6f8-ec5d47483d89"
      },
      "execution_count": 2,
      "outputs": [
        {
          "output_type": "stream",
          "name": "stdout",
          "text": [
            "sat\n",
            "[A = True, B = False]\n"
          ]
        }
      ]
    },
    {
      "cell_type": "markdown",
      "source": [
        "## Exercises"
      ],
      "metadata": {
        "id": "OIEnhmNINQvY"
      }
    },
    {
      "cell_type": "markdown",
      "source": [
        "1. Spend a minute to carefully read the above program (the content of the `smt2program` variable).  It is in the so-called parenthesised prefix notation, known for being used in LISP -- one of the first functional programming languages.  In this notation, each pair of parentheses is a function call, with the first word in the parentheses being the function name and the rest of the items being parameters.  Pay attention to the third line (the `assert' command); can you recognise the FOL formula encoded there?"
      ],
      "metadata": {
        "id": "9uwTvzsM7FiW"
      }
    },
    {
      "cell_type": "markdown",
      "source": [
        "2. Run the code snippet above.  The output tells you that the program is _satisfiable_, and also gives the values of variables $A$ and $B$ that satisfies it -- a model.  Check that these values satisfy the formula encoded in line 3 of the SMT2 program."
      ],
      "metadata": {
        "id": "wMu7Y3DE8kpY"
      }
    },
    {
      "cell_type": "markdown",
      "source": [
        "3. Read the following very brief reference for the Z3 language.\n",
        "\n",
        " To comment out a line, place semicolon at the beginning of it:\n",
        " ```\n",
        " ; Z3 will ignore this line\n",
        " ```\n",
        " Every command in Z3 is a function call and has the following format:\n",
        "```\n",
        "(<function name> <parameter 1> <parameter 2> ...)\n",
        "```\n",
        " Each parameter can also be a function call.\n",
        "\n",
        " A few functions you may need:\n",
        "\n",
        "Function| Description\n",
        "--------|-----------\n",
        "`and`   | Logical and; can take more than two parameters\n",
        "`or`    | Logical or; can take more than two parameters\n",
        "`not`   | Logical not\n",
        "`=>`    | Implication ($\\rightarrow$)\n",
        "`=`     | Equivalence ($\\leftrightarrow$)\n",
        "`declare-const` | Declares a constant; first parameter is the constant name; second parameter is the constant type\n",
        "`assert` | Takes one parameter and demands that it evaluates to true\n"
      ],
      "metadata": {
        "id": "Rw-JkORT-9Tj"
      }
    },
    {
      "cell_type": "markdown",
      "source": [
        "4. Translate each of the following formulas into the SMT2 language and use Z3 to find the values of the constants that satisfy each of them (edit the `smt2program` content).  Check the answers by substituting them into the original formulas.\n",
        "\n",
        " 1. $A \\lor \\lnot B$\n",
        " 1. $(A \\lor \\lnot B \\lor \\lnot C) \\land B \\land C$\n",
        " 1. $((A \\rightarrow B) \\leftrightarrow (A \\land B)) \\land \\lnot B$\n",
        " 1. $((A \\land \\lnot B) \\lor (\\lnot A \\land B)) \\land (A \\leftrightarrow B) \\land \\lnot (C \\leftrightarrow B)$\n",
        "\n",
        " (Note that not all these formulas are satisfiable.)"
      ],
      "metadata": {
        "id": "I91kkgFqARVl"
      }
    },
    {
      "cell_type": "code",
      "source": [
        "smt2program = \"\"\"\n",
        "(declare-const A Bool)\n",
        "(declare-const B Bool)\n",
        "(declare-const C Bool)\n",
        "; Question 1 (assert (and A (not B)))\n",
        "; Question 2 (assert (and (or A (not B) (not C)) B C))\n",
        "; Question 3 (assert (and (= (=> A B) (and A B)) (not B)))\n",
        "; Question 4 (assert (and  (or (and A (not B)) (and (not A) B)) (= A B) (not (= C B))))\n",
        "; All questions are satisfiable except 4\n",
        "\"\"\"\n",
        "\n",
        "import z3\n",
        "\n",
        "s = z3.Solver()\n",
        "s.add(z3.parse_smt2_string(smt2program))\n",
        "status = s.check()\n",
        "print(status)\n",
        "if status == z3.sat:\n",
        "    print(s.model())"
      ],
      "metadata": {
        "id": "xtoVjNFtAQiY",
        "outputId": "54417a93-fb07-4a60-fb91-e4e10c68a787",
        "colab": {
          "base_uri": "https://localhost:8080/"
        }
      },
      "execution_count": 13,
      "outputs": [
        {
          "output_type": "stream",
          "name": "stdout",
          "text": [
            "sat\n",
            "[]\n"
          ]
        }
      ]
    },
    {
      "cell_type": "markdown",
      "source": [
        "5. Z3 can handle non-Boolean variables.  For example, it can handle integers; just use `Int` instead of `Bool` when defining a constant.  The supported functions are `+`, `-`, `*`, `<`, `>`, etc.\n",
        "\n",
        " Check the following example of a program.  It defines two integer constants and requests that $x + y < 10$ and $x > 8$.  Note that we can write multiple `assert` commands to demand multiple formulas to be satisfied.\n"
      ],
      "metadata": {
        "id": "5HX3b2JKA6HR"
      }
    },
    {
      "cell_type": "code",
      "source": [
        "smt2program = \"\"\"\n",
        "(declare-const x Int)\n",
        "(declare-const y Int)\n",
        "(assert\n",
        "    (<\n",
        "        (+ x y)\n",
        "        10\n",
        "    )\n",
        ")\n",
        "(assert (> x 8 ))\n",
        "\"\"\"\n",
        "\n",
        "import z3\n",
        "\n",
        "s = z3.Solver()\n",
        "s.add(z3.parse_smt2_string(smt2program))\n",
        "status = s.check()\n",
        "print(status)\n",
        "if status == z3.sat:\n",
        "    print(s.model())"
      ],
      "metadata": {
        "id": "3Q3So7QF7GJ8",
        "outputId": "64394ba5-c96e-4ae2-d40a-f8246c33c862",
        "colab": {
          "base_uri": "https://localhost:8080/"
        }
      },
      "execution_count": 14,
      "outputs": [
        {
          "output_type": "stream",
          "name": "stdout",
          "text": [
            "sat\n",
            "[x = 9, y = 0]\n"
          ]
        }
      ]
    },
    {
      "cell_type": "markdown",
      "source": [
        "6. Using Z3, find a solution to the following mathematical problem:\n",
        "Find a number $x$ that is greater than 1 and that is divisible by 3 and 7.  \n",
        "Hint: you do not need any new commands/functions."
      ],
      "metadata": {
        "id": "NowAS6UWM7sg"
      }
    },
    {
      "cell_type": "code",
      "source": [
        "smt2program = \"\"\"\n",
        "(declare-const x Int)\n",
        "(assert (> x 1))\n",
        "\"\"\"\n",
        "\n",
        "import z3\n",
        "\n",
        "s = z3.Solver()\n",
        "s.add(z3.parse_smt2_string(smt2program))\n",
        "status = s.check()\n",
        "print(status)\n",
        "if status == z3.sat:\n",
        "    print(s.model())"
      ],
      "metadata": {
        "id": "dHKckJLsBr9a",
        "outputId": "9550c4db-e699-454e-e242-27c0c2eb149d",
        "colab": {
          "base_uri": "https://localhost:8080/"
        }
      },
      "execution_count": 16,
      "outputs": [
        {
          "output_type": "stream",
          "name": "stdout",
          "text": [
            "sat\n",
            "[x = 2]\n"
          ]
        }
      ]
    },
    {
      "cell_type": "markdown",
      "source": [
        "7. Using Z3, find a solution to the following mathematical problem.  There is a monotonically-increasing sequence of three integers from the interval $[1, 7]$; in other words, each next number is strictly greater than the previous number.\n",
        " We know that the first and the second numbers are even (divisible by 2).  We also know that the third number is the sum of the first and the second numbers.\n",
        "  What are the numbers in the sequence?"
      ],
      "metadata": {
        "id": "1_S8Hb3mB-xJ"
      }
    },
    {
      "cell_type": "code",
      "source": [
        "smt2program = \"\"\"\n",
        "???\n",
        "\"\"\"\n",
        "\n",
        "import z3\n",
        "\n",
        "s = z3.Solver()\n",
        "s.add(z3.parse_smt2_string(smt2program))\n",
        "status = s.check()\n",
        "print(status)\n",
        "if status == z3.sat:\n",
        "    print(s.model())"
      ],
      "metadata": {
        "id": "08aXcn5dCLL-"
      },
      "execution_count": null,
      "outputs": []
    }
  ]
}