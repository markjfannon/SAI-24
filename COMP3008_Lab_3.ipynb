{
  "nbformat": 4,
  "nbformat_minor": 0,
  "metadata": {
    "colab": {
      "provenance": [],
      "include_colab_link": true
    },
    "kernelspec": {
      "name": "python3",
      "display_name": "Python 3"
    },
    "language_info": {
      "name": "python"
    }
  },
  "cells": [
    {
      "cell_type": "markdown",
      "metadata": {
        "id": "view-in-github",
        "colab_type": "text"
      },
      "source": [
        "<a href=\"https://colab.research.google.com/github/markjfannon/SAI-24/blob/main/COMP3008_Lab_3.ipynb\" target=\"_parent\"><img src=\"https://colab.research.google.com/assets/colab-badge.svg\" alt=\"Open In Colab\"/></a>"
      ]
    },
    {
      "cell_type": "code",
      "source": [
        "!pip install z3-solver"
      ],
      "metadata": {
        "id": "8ImWgeV2AVSk",
        "colab": {
          "base_uri": "https://localhost:8080/"
        },
        "outputId": "d2565f07-cac8-43ff-e15c-da54897a9135"
      },
      "execution_count": 2,
      "outputs": [
        {
          "output_type": "stream",
          "name": "stdout",
          "text": [
            "Collecting z3-solver\n",
            "  Downloading z3_solver-4.13.3.0-py3-none-manylinux_2_17_x86_64.manylinux2014_x86_64.whl.metadata (602 bytes)\n",
            "Downloading z3_solver-4.13.3.0-py3-none-manylinux_2_17_x86_64.manylinux2014_x86_64.whl (28.1 MB)\n",
            "\u001b[2K   \u001b[90m━━━━━━━━━━━━━━━━━━━━━━━━━━━━━━━━━━━━━━━━\u001b[0m \u001b[32m28.1/28.1 MB\u001b[0m \u001b[31m60.9 MB/s\u001b[0m eta \u001b[36m0:00:00\u001b[0m\n",
            "\u001b[?25hInstalling collected packages: z3-solver\n",
            "Successfully installed z3-solver-4.13.3.0\n"
          ]
        }
      ]
    },
    {
      "cell_type": "markdown",
      "source": [
        "# Lab 3: Proofs in Z3\n",
        "\n",
        "This week, you will keep practising how to encode knowledge in a formal way and how to extract useful information from your knowledge by using automated reasoning.\n",
        "\n",
        "The first few exercises will be to write a program in the Z3 language (SMT2).\n",
        "In this case, it might be easier to understand the Z3 language than an equivalent Python script.\n",
        "You will later be asked to translate this into Python.\n"
      ],
      "metadata": {
        "id": "-aG3XBEwwada"
      }
    },
    {
      "cell_type": "markdown",
      "source": [
        "## New SMT2 syntax"
      ],
      "metadata": {
        "id": "OCTnhmUy7jk7"
      }
    },
    {
      "cell_type": "markdown",
      "source": [
        "To declare an FOL function, use\n",
        "```\n",
        "(declare-fun <Function name> (<Param. 1 type> <Param. 2 type> ...) <Return type>)\n",
        "```\n",
        "For example\n",
        "```\n",
        "(declare-fun square (Int Int) Int)\n",
        "```\n",
        "declares a function `square` with two `Int` parameters and `Int` return type.\n",
        "\n",
        "Predicates in Z3 are functions that return `Bool`.\n",
        "\n",
        "\n",
        "Z3 incorporates types such as `Bool` and `Int`.\n",
        "In this knowledge base, however, it is convenient to have a special type for blocks.\n",
        "We have exactly three blocks, so we can use an enumeration.\n",
        "The syntax to define an enumeration in SMT2 is as follows:\n",
        "```\n",
        "(declare-datatypes () ((<Type name> <Value 1> <Value 2> <Value 3> ...)))\n",
        "```\n",
        "For example, you could define a data type `Animal` with possible values `dog`, `cat` and `fox`:\n",
        "```\n",
        "(declare-datatypes () (Animal dog cat fox)))\n",
        "```\n",
        "Now `dog`, `cat` and `fox` are constants of type `Animal` referring to the corresponding values.\n",
        "\n",
        "To complete this lab, you will also need to use quantifiers (keywords `forall` and `exists`).\n",
        "For example, sentence $\\forall x \\forall y . P(x, y)$, where $x$ and $y$ are of type `MyType`, can be encoded in SMT2 as\n",
        "```\n",
        "(forall ((x MyType) (y MyType)) (P x y))\n",
        "```\n",
        "If you have only one quantifier, SMT2 still requires you to use all the brackets, e.g.:\n",
        "```\n",
        "(forall ((x MyType)) (Q x))\n",
        "```\n"
      ],
      "metadata": {
        "id": "zbqHZunSxDqg"
      }
    },
    {
      "cell_type": "markdown",
      "source": [
        "## Exercises"
      ],
      "metadata": {
        "id": "j_3fAfLY7bdb"
      }
    },
    {
      "cell_type": "markdown",
      "source": [
        "1. Recall the blocks example from Lecture 2 self-study exercise.  There were four sentences in the knowledge base:\n",
        "\n",
        " 1. $\\mathit{OnTop}(a, b)$\n",
        " 2. $\\mathit{OnTop}(b, c)$\n",
        " 3. $\\mathit{Green}(a)$\n",
        " 4. $\\lnot \\mathit{Green}(c)$\n",
        "\n",
        " The hypothesis was as follows:\n",
        " $$\n",
        " \\exists x \\exists y . \\mathit{OnTop}(x, y) \\land \\mathit{Green}(x) \\land \\lnot \\mathit{Green}(y).\n",
        " $$\n",
        "\n",
        " Encode the blocks example (both the knowledge base and the hypothesis) in Z3.\n",
        " For now, use the SMT2 language.\n",
        "\n"
      ],
      "metadata": {
        "id": "zyyKJfcmxaKo"
      }
    },
    {
      "cell_type": "code",
      "execution_count": 20,
      "metadata": {
        "id": "TIvOOrP7wXqS",
        "colab": {
          "base_uri": "https://localhost:8080/"
        },
        "outputId": "628f8b38-1b4a-43eb-d5c2-db077fac26e1"
      },
      "outputs": [
        {
          "output_type": "stream",
          "name": "stdout",
          "text": [
            "sat\n",
            "[OnTop = [else -> True],\n",
            " Green = [notgreen -> False, else -> True]]\n"
          ]
        }
      ],
      "source": [
        "# Solution to exercise 1\n",
        "smt2program = \"\"\"\n",
        "(declare-datatypes () ((Block green notgreen dontknow)))\n",
        "(declare-fun OnTop(Block Block) Bool)\n",
        "(declare-fun Green(Block) Bool)\n",
        "\n",
        "\n",
        "(assert (OnTop green dontknow))\n",
        "(assert (OnTop dontknow notgreen))\n",
        "(assert (Green green))\n",
        "(assert (not (Green notgreen)))\n",
        "\n",
        "(assert (exists ((x Block) (y Block))\n",
        "                (and (OnTop x y) (Green x) (not (Green y)))))\n",
        "\"\"\"\n",
        "\n",
        "import z3\n",
        "\n",
        "s = z3.Solver()\n",
        "s.add(z3.parse_smt2_string(smt2program))\n",
        "status = s.check()\n",
        "print(status)\n",
        "if status == z3.sat:\n",
        "    print(s.model())"
      ]
    },
    {
      "cell_type": "markdown",
      "source": [
        "2. Note that you just built a model of a piece of 'real world'; you mathematically described several objects and relations between them.  You also described what you believe to be true about this model&nbsp;– your _hypothesis_.\n",
        "\n",
        " If you correctly encoded the knowledge base and the hypothesis, Z3 should tell you that your program is satisfiable (`sat`).  What does this mean?  Try to understand the model that Z3 found; for example, what is the interpretation of the `OnTop` predicate?"
      ],
      "metadata": {
        "id": "ArSqy9P0_rUx"
      }
    },
    {
      "cell_type": "markdown",
      "source": [
        "3. In fact, it would be nice to know the values of $x$ and $y$ that satisfy our hypothesis. \tTo obtain their values, remove the existential quantifier and declare $x$ and $y$ as constants.  Now, if you run the program again, you will also get the values of $x$ and $y$.  (Make sure you understand why this trick works!)"
      ],
      "metadata": {
        "id": "fC3M1lVAkVwX"
      }
    },
    {
      "cell_type": "code",
      "source": [
        "# Solution to exercise 3\n",
        "smt2program = \"\"\"\n",
        "(declare-datatypes () ((Block green notgreen dontknow)))\n",
        "(declare-fun OnTop(Block Block) Bool)\n",
        "(declare-fun Green(Block) Bool)\n",
        "\n",
        "(declare-const x Block)\n",
        "(declare-const y Block)\n",
        "\n",
        "\n",
        "(assert (OnTop green dontknow))\n",
        "(assert (OnTop dontknow notgreen))\n",
        "(assert (Green green))\n",
        "(assert (not (Green notgreen)))\n",
        "\n",
        "(assert (and (OnTop x y) (Green x) (not (Green y))))\n",
        "\"\"\"\n",
        "\n",
        "import z3\n",
        "\n",
        "s = z3.Solver()\n",
        "s.add(z3.parse_smt2_string(smt2program))\n",
        "status = s.check()\n",
        "print(status)\n",
        "if status == z3.sat:\n",
        "    print(s.model())"
      ],
      "metadata": {
        "id": "H6whLdD0kVZ_",
        "colab": {
          "base_uri": "https://localhost:8080/"
        },
        "outputId": "87378239-9a20-4cb8-caf1-28324665df00"
      },
      "execution_count": 3,
      "outputs": [
        {
          "output_type": "stream",
          "name": "stdout",
          "text": [
            "sat\n",
            "[y = notgreen,\n",
            " x = green,\n",
            " OnTop = [else -> True],\n",
            " Green = [notgreen -> False, else -> True]]\n"
          ]
        }
      ]
    },
    {
      "cell_type": "markdown",
      "source": [
        "4. There are two problems with the answer we get from Z3.\n",
        " * Z3 does not prove that there is a green block on top of a non-green block no matter the colour of block $b$.  It simply assigns a colour to block $b$, and then the case becomes obvious &ndash; but only for this assignment.\n",
        "\n",
        " * Moreover, Z3 suggests an interpretation for the predicate $\\mathit{OnTop}$ which was not intended; in my case, it defined $\\mathit{OnTop}(x, y)$ as TRUE for any inputs!\n",
        " The cause of both of these issues is that we are asking if the program (the knowledge base and the hypothesis) is _satisfiable_, whereas in fact we want to know if the hypothesis is _entailed_ by the knowledge base.\n",
        "\n",
        " **Z3 can only check satisfiability. \tHow can we use it to prove entailment?**\n",
        " The trick is to negate our hypothesis and then ask if the program with the negated hypothesis is satisfiable.\n",
        "\n",
        " * <ins>If the hypothesis is correct (is a logical consequence of our knowledge base)</ins> then every interepretation that satisfies the knowledge base also satisfies the hypothesis.  Then Z3 will not be able to find an interpretation that satisfies both the knowledge base and the negated hypothesis.  Hence it will return `unsat`.\n",
        "\n",
        " * <ins>If the hypothesis is incorrect (is not a logical consequence of our knowledge base)</ins>, then there is at least one interpretation that satisfies the knowledge base but falsifies the hypothesis (obviously, satisfying the negated hypothesis); Z3 will find such an interpretation and return `sat`.\n",
        "\n",
        " This principle can be summarised mathematically as follows:\n",
        " * If $S \\land \\lnot \\alpha$ is unsatisfiable then $S \\models \\alpha$.\n",
        " * If $S \\land \\lnot \\alpha$ is satisfiable then $S \\not\\models \\alpha$.\n",
        "\n",
        " Test that our hypothesis about the blocks is correct (i.e. entailed by the knowledge base) using the above trick."
      ],
      "metadata": {
        "id": "_fkzJQ3CkuuJ"
      }
    },
    {
      "cell_type": "code",
      "source": [
        "# Solution to exercise 4\n",
        "smt2program = \"\"\"\n",
        "(declare-datatypes () ((Block green notgreen dontknow)))\n",
        "(declare-fun OnTop(Block Block) Bool)\n",
        "(declare-fun Green(Block) Bool)\n",
        "\n",
        "(declare-const x Block)\n",
        "(declare-const y Block)\n",
        "\n",
        "\n",
        "(assert (OnTop green dontknow))\n",
        "(assert (OnTop dontknow notgreen))\n",
        "(assert (Green green))\n",
        "(assert (not (Green notgreen)))\n",
        "\n",
        "(assert (not (and (OnTop x y) (Green x) (not (Green y)))))\n",
        "\"\"\"\n",
        "\n",
        "import z3\n",
        "\n",
        "s = z3.Solver()\n",
        "s.add(z3.parse_smt2_string(smt2program))\n",
        "status = s.check()\n",
        "print(status)\n",
        "if status == z3.sat:\n",
        "    print(s.model())"
      ],
      "metadata": {
        "id": "GoBUYz-Ml1pT",
        "colab": {
          "base_uri": "https://localhost:8080/"
        },
        "outputId": "7ec24acd-9a86-43e1-b3ca-c8e1537b2622"
      },
      "execution_count": 6,
      "outputs": [
        {
          "output_type": "stream",
          "name": "stdout",
          "text": [
            "sat\n",
            "[y = green,\n",
            " x = notgreen,\n",
            " OnTop = [else -> True],\n",
            " Green = [notgreen -> False, else -> True]]\n"
          ]
        }
      ]
    },
    {
      "cell_type": "markdown",
      "source": [
        "5. Write a Python script that encodes your answer to Question 4.  \n",
        " It is easier to use integers in the Python implementation.\n",
        " For example, you can assume that block $A$ is 1, block $B$ is 2 and block $C$ is 3.\n",
        " Other than that, your implementation will be very similar to your answer to Question 5.\n",
        "\n",
        " To declare a Z3 function from Python, use the `z3.Function` function.\n",
        " The first parameter is the name of the function/predicate, followed by the types of the parameters and, finally, the return type.\n",
        " For example, to declare a predicate OnTop with two integer parameters, use the following syntax:\n",
        " ```\n",
        " OnTop = Function('OnTop', IntSort(), IntSort(), BoolSort())\n",
        " ```\n",
        "\n",
        " To use quantifiers, you will need functions `z3.Exists` and `z3.ForAll`, for example, the following code encodes $\\forall x . \\forall y . P(x, y)$ with the domain of discorse that includes all integer values:"
      ],
      "metadata": {
        "id": "jPq57yFAmF-N"
      }
    },
    {
      "cell_type": "code",
      "source": [
        "# Example of using quantifiers in Python\n",
        "import z3\n",
        "\n",
        "s = z3.Solver()\n",
        "\n",
        "x = z3.Int('x')\n",
        "y = z3.Int('y')\n",
        "P = z3.Function('P', z3.IntSort(), z3.IntSort(), z3.BoolSort())\n",
        "s.add(z3.ForAll([x, y], P(x, y)))\n",
        "\n",
        "status = s.check()\n",
        "print(status)\n",
        "if status == z3.sat:\n",
        "    print(s.model())"
      ],
      "metadata": {
        "id": "3altLDBiE--i"
      },
      "execution_count": null,
      "outputs": []
    },
    {
      "cell_type": "code",
      "source": [
        "# Solution to exercise 5\n",
        "\n"
      ],
      "metadata": {
        "id": "gdDAhqkUmrb0"
      },
      "execution_count": null,
      "outputs": []
    },
    {
      "cell_type": "markdown",
      "source": [
        "6. Barber's paradox is a famous logical exercise by Bertrand Russell.\n",
        " It is as follows:\n",
        " * Anyone who does not shave himself must be shaved by the barber (note _the_ barber -- some unique person, not _a_ barber);\n",
        " * Whomever the barber shaves, must not shave himself.\n",
        "\n",
        " Encode this paradox in Z3 and check if it is satisfiable.\n",
        "\n",
        " Hints:\n",
        " * Introduce a predicate $\\mathit{Shaves}(x,y)$ to indicate that $x$ shaves $y$.\n",
        " * You will need a data type for people.\n",
        "   You can define it using the recursive data type:\n",
        "   ```\n",
        "   (declare-datatypes () ((Person (first) (next (prev Person)))))\n",
        "   ```\n",
        "   Now `first` refers to the first person, `(next first)` refers to the second person, `(next (next first))` refers to the third person, etc.\n",
        "\n",
        " * Define a constant `barber` of type `Person`."
      ],
      "metadata": {
        "id": "OSFZyLA0msCc"
      }
    },
    {
      "cell_type": "code",
      "source": [
        "# Solution to exercise 6\n",
        "smt2program = \"\"\"\n",
        "?\n",
        "\"\"\"\n",
        "\n",
        "import z3\n",
        "\n",
        "s = z3.Solver()\n",
        "s.add(z3.parse_smt2_string(smt2program))\n",
        "status = s.check()\n",
        "print(status)\n",
        "if status == z3.sat:\n",
        "    print(s.model())"
      ],
      "metadata": {
        "id": "ORDy5CJ-nMAx"
      },
      "execution_count": null,
      "outputs": []
    },
    {
      "cell_type": "markdown",
      "source": [
        "Make sure you understand what the output of Z3 means; for example, does it mean that there is a solution to this paradox?"
      ],
      "metadata": {
        "id": "RGBe1Cq3mqSO"
      }
    }
  ]
}